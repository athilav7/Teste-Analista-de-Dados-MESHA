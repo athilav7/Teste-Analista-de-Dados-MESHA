{
 "cells": [
  {
   "cell_type": "code",
   "execution_count": 1,
   "id": "0c180e76",
   "metadata": {},
   "outputs": [
    {
     "name": "stdout",
     "output_type": "stream",
     "text": [
      "Requirement already satisfied: sqlalchemy in c:\\users\\renat\\anaconda3\\lib\\site-packages (1.4.39)\n",
      "Requirement already satisfied: greenlet!=0.4.17 in c:\\users\\renat\\anaconda3\\lib\\site-packages (from sqlalchemy) (2.0.1)\n"
     ]
    }
   ],
   "source": [
    "!pip install sqlalchemy"
   ]
  },
  {
   "cell_type": "code",
   "execution_count": 2,
   "id": "8b197e6b",
   "metadata": {},
   "outputs": [],
   "source": [
    "from sqlalchemy import create_engine, text\n",
    "\n",
    "# Credenciais e detalhes do banco de dados\n",
    "connection_url = f\"mssql+pyodbc://B3NJ4M/importCSV?trusted_connection=yes&driver=ODBC+Driver+17+for+SQL+Server\"\n",
    "engine = create_engine(connection_url)\n"
   ]
  },
  {
   "cell_type": "code",
   "execution_count": 3,
   "id": "7d9e20a5",
   "metadata": {},
   "outputs": [],
   "source": [
    "from sqlalchemy import create_engine\n",
    "\n",
    "# Detalhes do SQL Server e banco de dados\n",
    "server_name = 'B3NJ4M'\n",
    "database_name = 'importCSV'\n",
    "\n",
    "# Configuração da conexão usando autenticação do Windows\n",
    "connection_url = f\"mssql+pyodbc://{server_name}/{database_name}?trusted_connection=yes&driver=ODBC+Driver+17+for+SQL+Server\"\n",
    "\n",
    "# Criação da engine\n",
    "engine = create_engine(connection_url)\n"
   ]
  },
  {
   "cell_type": "code",
   "execution_count": 7,
   "id": "4f6ec8e0",
   "metadata": {},
   "outputs": [
    {
     "name": "stdout",
     "output_type": "stream",
     "text": [
      "('Piracicaba', 858.5799999999999)\n"
     ]
    }
   ],
   "source": [
    "#Questão 1 - Qual a escola com a maior média de notas?\n",
    "result = engine.execute(\"\"\"SELECT TOP 1\n",
    "    NO_MUNICIPIO_PROVA,\n",
    "    (CAST(NU_NOTA_CN AS FLOAT) + CAST(NU_NOTA_CH AS FLOAT) + \n",
    "\tCAST(NU_NOTA_LC AS FLOAT) + CAST(NU_NOTA_MT AS FLOAT) + \n",
    "\tCAST(NU_NOTA_REDACAO AS FLOAT)) / 5 AS media\n",
    "FROM dbo.data\n",
    "ORDER BY media DESC;\n",
    "\"\"\").fetchone()\n",
    "print(result)\n",
    "\n",
    "#Como não tem código correspondente a escola, e não havia município registrado, peguei o código corresponte ao nome \n",
    "#do local que o aluno fez a prova."
   ]
  },
  {
   "cell_type": "code",
   "execution_count": 68,
   "id": "032a2605",
   "metadata": {},
   "outputs": [
    {
     "name": "stdout",
     "output_type": "stream",
     "text": [
      "('200005996961', 858.5799999999999)\n"
     ]
    }
   ],
   "source": [
    "#Questão 2 - Qual o aluno com a maior média de notas e o valor dessa média?\n",
    "\n",
    "result = engine.execute(\"\"\"SELECT TOP 1\n",
    "    NU_INSCRICAO,\n",
    "    (CAST(NU_NOTA_CN AS FLOAT) + CAST(NU_NOTA_CH AS FLOAT) + \n",
    "\tCAST(NU_NOTA_LC AS FLOAT) + CAST(NU_NOTA_MT AS FLOAT) + \n",
    "\tCAST(NU_NOTA_REDACAO AS FLOAT)) / 5 AS media\n",
    "FROM dbo.data\n",
    "ORDER BY media DESC;\n",
    "\"\"\").fetchone()\n",
    "print(result)"
   ]
  },
  {
   "cell_type": "code",
   "execution_count": 10,
   "id": "1080ba2b",
   "metadata": {},
   "outputs": [
    {
     "name": "stdout",
     "output_type": "stream",
     "text": [
      "(526.4255358448479,)\n"
     ]
    }
   ],
   "source": [
    "#Questão 3 - Qual a média geral?\n",
    "\n",
    "result = engine.execute(\"\"\"SELECT \n",
    "    AVG(\n",
    "        CASE WHEN TP_PRESENCA_CH <> 0 AND TP_PRESENCA_CN <> 0 AND TP_PRESENCA_MT <> 0 AND TP_PRESENCA_LC <> 0\n",
    "             THEN (CAST(NU_NOTA_CN AS FLOAT) + CAST(NU_NOTA_CH AS FLOAT) + CAST(NU_NOTA_LC AS FLOAT) + CAST(NU_NOTA_MT AS FLOAT) + CAST(NU_NOTA_REDACAO AS FLOAT)) / 5\n",
    "             ELSE NULL\n",
    "        END\n",
    "    ) AS media_geral\n",
    "FROM dbo.data;\n",
    "\"\"\").fetchone()\n",
    "print(result)\n"
   ]
  },
  {
   "cell_type": "code",
   "execution_count": 9,
   "id": "5c993209",
   "metadata": {},
   "outputs": [
    {
     "name": "stdout",
     "output_type": "stream",
     "text": [
      "(Decimal('55.208210670073'),)\n"
     ]
    }
   ],
   "source": [
    "#Questão 4 - Qual o % de Ausentes?\n",
    "\n",
    "result = engine.execute(\"\"\"SELECT\n",
    "    (COUNT(*) * 100.0) / (SELECT COUNT(*) FROM dbo.data) AS PorcentagemAusentes\n",
    "FROM dbo.data\n",
    "WHERE\n",
    "    TP_PRESENCA_CN = 0\n",
    "    OR TP_PRESENCA_CH = 0\n",
    "    OR TP_PRESENCA_MT = 0\n",
    "    OR TP_PRESENCA_LC = 0\n",
    "\n",
    "    \n",
    "\"\"\").fetchone()\n",
    "print(result)"
   ]
  },
  {
   "cell_type": "code",
   "execution_count": 56,
   "id": "ae8e9117",
   "metadata": {},
   "outputs": [
    {
     "name": "stdout",
     "output_type": "stream",
     "text": [
      "[(5783109,)]\n"
     ]
    }
   ],
   "source": [
    "#Questão 5 - Qual o número total de Inscritos?\n",
    "result = engine.execute(\"\"\"SELECT COUNT(*)\n",
    "    FROM dbo.data;\n",
    "\"\"\").fetchall()\n",
    "print(result)"
   ]
  },
  {
   "cell_type": "code",
   "execution_count": 62,
   "id": "3e115c3f",
   "metadata": {},
   "outputs": [
    {
     "name": "stdout",
     "output_type": "stream",
     "text": [
      "[('NU_NOTA_CH', 511.15220163100145), ('NU_NOTA_REDACAO', 573.4127241171473), ('NU_NOTA_CN', 490.4097924879871), ('NU_NOTA_LC', 523.8009359364424), ('NU_NOTA_MT', 520.578334821981)]\n"
     ]
    }
   ],
   "source": [
    "#Questão 6 - Qual a média por disciplina?\n",
    "result = engine.execute(\"\"\"SELECT 'NU_NOTA_CN' AS Disciplina, AVG(CASE WHEN ISNUMERIC(NU_NOTA_CN) = 1 THEN TRY_CAST(NU_NOTA_CN AS FLOAT) ELSE NULL END) AS Media\n",
    "FROM dbo.data\n",
    "UNION\n",
    "SELECT 'NU_NOTA_CH' AS Disciplina, AVG(CASE WHEN ISNUMERIC(NU_NOTA_CH) = 1 THEN TRY_CAST(NU_NOTA_CH AS FLOAT) ELSE NULL END) AS Media\n",
    "FROM dbo.data\n",
    "UNION\n",
    "SELECT 'NU_NOTA_LC' AS Disciplina, AVG(CASE WHEN ISNUMERIC(NU_NOTA_LC) = 1 THEN TRY_CAST(NU_NOTA_LC AS FLOAT) ELSE NULL END) AS Media\n",
    "FROM dbo.data\n",
    "UNION\n",
    "SELECT 'NU_NOTA_MT' AS Disciplina, AVG(CASE WHEN ISNUMERIC(NU_NOTA_MT) = 1 THEN TRY_CAST(NU_NOTA_MT AS FLOAT) ELSE NULL END) AS Media\n",
    "FROM dbo.data\n",
    "UNION\n",
    "SELECT 'NU_NOTA_REDACAO' AS Disciplina, AVG(CASE WHEN ISNUMERIC(NU_NOTA_REDACAO) = 1 THEN TRY_CAST(NU_NOTA_REDACAO AS FLOAT) ELSE NULL END) AS Media\n",
    "FROM dbo.data;\n",
    "\"\"\").fetchall()\n",
    "print(result)\n"
   ]
  },
  {
   "cell_type": "code",
   "execution_count": 58,
   "id": "0c0cc531",
   "metadata": {},
   "outputs": [
    {
     "name": "stdout",
     "output_type": "stream",
     "text": [
      "[('F', 518.7388234458074), ('M', 531.6950796901564)]\n"
     ]
    }
   ],
   "source": [
    "#Questão 7 - Qual a média por Sexo?\n",
    "\n",
    "result = engine.execute(\"\"\"WITH medias AS (\n",
    "    SELECT\n",
    "        TP_SEXO,\n",
    "        AVG(CASE WHEN ISNUMERIC(NU_NOTA_CN) = 1 THEN TRY_CAST(NU_NOTA_CN AS FLOAT) ELSE NULL END) AS media_CN,\n",
    "        AVG(CASE WHEN ISNUMERIC(NU_NOTA_CH) = 1 THEN TRY_CAST(NU_NOTA_CH AS FLOAT) ELSE NULL END) AS media_CH,\n",
    "        AVG(CASE WHEN ISNUMERIC(NU_NOTA_LC) = 1 THEN TRY_CAST(NU_NOTA_LC AS FLOAT) ELSE NULL END) AS media_LC,\n",
    "        AVG(CASE WHEN ISNUMERIC(NU_NOTA_MT) = 1 THEN TRY_CAST(NU_NOTA_MT AS FLOAT) ELSE NULL END) AS media_MT,\n",
    "        AVG(CASE WHEN ISNUMERIC(NU_NOTA_REDACAO) = 1 THEN TRY_CAST(NU_NOTA_REDACAO AS FLOAT) ELSE NULL END) AS media_REDACAO\n",
    "    FROM dbo.data\n",
    "    GROUP BY TP_SEXO\n",
    ")\n",
    "SELECT\n",
    "    TP_SEXO,\n",
    "    AVG(media_CN + media_CH + media_LC + media_MT + media_REDACAO) / 5 AS media_total\n",
    "FROM medias\n",
    "GROUP BY TP_SEXO;\n",
    "\n",
    "\"\"\").fetchall()\n",
    "print(result)\n"
   ]
  },
  {
   "cell_type": "code",
   "execution_count": 60,
   "id": "ed429da2",
   "metadata": {},
   "outputs": [
    {
     "name": "stdout",
     "output_type": "stream",
     "text": [
      "[('2', 498.36797051183265), ('5', 470.6458236604224), ('1', 553.8428311659322), ('4', 522.1053778667113), ('0', 530.5554930393689), ('3', 506.06661319761315)]\n"
     ]
    }
   ],
   "source": [
    "#Questão 8 - Qual a média por Etnia?\n",
    "result = engine.execute(\"\"\"WITH medias AS (\n",
    "    SELECT\n",
    "        TP_COR_RACA,\n",
    "        AVG(CASE WHEN ISNUMERIC(NU_NOTA_CN) = 1 THEN TRY_CAST(NU_NOTA_CN AS FLOAT) ELSE NULL END) AS media_CN,\n",
    "        AVG(CASE WHEN ISNUMERIC(NU_NOTA_CH) = 1 THEN TRY_CAST(NU_NOTA_CH AS FLOAT) ELSE NULL END) AS media_CH,\n",
    "        AVG(CASE WHEN ISNUMERIC(NU_NOTA_LC) = 1 THEN TRY_CAST(NU_NOTA_LC AS FLOAT) ELSE NULL END) AS media_LC,\n",
    "        AVG(CASE WHEN ISNUMERIC(NU_NOTA_MT) = 1 THEN TRY_CAST(NU_NOTA_MT AS FLOAT) ELSE NULL END) AS media_MT,\n",
    "        AVG(CASE WHEN ISNUMERIC(NU_NOTA_REDACAO) = 1 THEN TRY_CAST(NU_NOTA_REDACAO AS FLOAT) ELSE NULL END) AS media_REDACAO\n",
    "    FROM dbo.data\n",
    "    GROUP BY TP_COR_RACA\n",
    ")\n",
    "SELECT\n",
    "    TP_COR_RACA,\n",
    "    AVG(media_CN + media_CH + media_LC + media_MT + media_REDACAO) / 5 AS media_total\n",
    "FROM medias\n",
    "GROUP BY TP_COR_RACA;\n",
    "\"\"\").fetchall()\n",
    "print(result)\n"
   ]
  },
  {
   "cell_type": "code",
   "execution_count": null,
   "id": "dc0887dd",
   "metadata": {},
   "outputs": [],
   "source": []
  },
  {
   "cell_type": "code",
   "execution_count": null,
   "id": "0b7f047a",
   "metadata": {},
   "outputs": [],
   "source": []
  }
 ],
 "metadata": {
  "kernelspec": {
   "display_name": "Python 3 (ipykernel)",
   "language": "python",
   "name": "python3"
  },
  "language_info": {
   "codemirror_mode": {
    "name": "ipython",
    "version": 3
   },
   "file_extension": ".py",
   "mimetype": "text/x-python",
   "name": "python",
   "nbconvert_exporter": "python",
   "pygments_lexer": "ipython3",
   "version": "3.11.4"
  }
 },
 "nbformat": 4,
 "nbformat_minor": 5
}
